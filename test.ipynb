{
 "cells": [
  {
   "cell_type": "code",
   "execution_count": 56,
   "id": "714ce049-980a-4554-a54f-6521da1b66d3",
   "metadata": {},
   "outputs": [
    {
     "name": "stderr",
     "output_type": "stream",
     "text": [
      "C:\\Users\\User\\anaconda3\\Lib\\site-packages\\sklearn\\base.py:439: UserWarning: X does not have valid feature names, but SVC was fitted with feature names\n",
      "  warnings.warn(\n"
     ]
    }
   ],
   "source": [
    "import joblib \n",
    "import pandas as pd\n",
    "import tkinter as tk\n",
    "from tkinter import messagebox\n",
    "import random\n",
    "\n",
    "classifier = joblib.load('C:\\\\Users\\\\User\\\\Exam_Dkhissi\\\\model.pkl')\n",
    "scaler= joblib.load('C:\\\\Users\\\\User\\\\Exam_Dkhissi\\\\scaler.pkl')\n",
    "# Créer une fenêtre Tkinter\n",
    "root = tk.Tk()\n",
    "root.title('Breast Tumor Prediction')\n",
    "\n",
    "# Noms des colonnes\n",
    "labels = ['Age:', 'Menopausal Status (0=premenopausal, 1=postmenopausal):', 'Tumor Size, mm:',\n",
    "          'Tumor Grade:', 'Number of Positive Lymph Nodes:', 'Progesterone Receptors (fmol/l):',\n",
    "          'Estrogen Receptors (fmol/l):', 'Hormonal Therapy (0=no, 1=yes):',\n",
    "          'Recurrence-Free Survival Time :']\n",
    "entries = []\n",
    "\n",
    "def predict_tumor():\n",
    "    try:\n",
    "        # Obtenir les valeurs de l'utilisateur à partir des widgets Entry\n",
    "        age = int(entries[0].get())\n",
    "        meno = int(entries[1].get())\n",
    "        size = int(entries[2].get())\n",
    "        grade = int(entries[3].get())\n",
    "        nodes = int(entries[4].get())\n",
    "        pgr = int(entries[5].get())\n",
    "        er = int(entries[6].get())\n",
    "        hormon = int(entries[7].get())\n",
    "        rfstime = int(entries[8].get())\n",
    "        \n",
    "        # Créer un DataFrame avec les valeurs de l'utilisateur\n",
    "        user_values = {\n",
    "            'age': age,\n",
    "            'meno': meno,\n",
    "            'size': size,\n",
    "            'grade': grade,\n",
    "            'nodes': nodes,\n",
    "            'pgr': pgr,\n",
    "            'er': er,\n",
    "            'hormon': hormon,\n",
    "            'rfstime': rfstime\n",
    "        }\n",
    "        X_user = pd.DataFrame(user_values, index=[0])\n",
    "        \n",
    "        # Mettre à l'échelle les données de X_user\n",
    "        X_user_scaled = scaler.transform(X_user)\n",
    "        \n",
    "        # Prédire la classe de la tumeur\n",
    "        prediction = classifier.predict(X_user_scaled)\n",
    "        \n",
    "        # Afficher le résultat de la prédiction dans une boîte de dialogue\n",
    "        if prediction[0] == 1:\n",
    "            messagebox.showinfo('Prediction', 'Le tumeur est malignant.')\n",
    "        else:\n",
    "            messagebox.showinfo('Prediction', 'Le tumeur est benign.')\n",
    "    \n",
    "    except ValueError:\n",
    "        messagebox.showerror('Error', 'Entrez les valeurs .')\n",
    "\n",
    "for i, label_text in enumerate(labels):\n",
    "    label = tk.Label(root, text=label_text)\n",
    "    label.grid(row=i, column=0, padx=10, pady=5)\n",
    "    \n",
    "    # Initialiser les champs de saisie avec des valeurs aléatoires entre 1 et 100\n",
    "    value = random.randint(1, 100) if i != 1 and i != 7 else random.randint(0, 1)  # Pour les champs binaires (1, 7)\n",
    "    entry = tk.Entry(root)\n",
    "    entry.insert(0, str(value))  # Insérer la valeur aléatoire dans le champ de saisie\n",
    "    entry.grid(row=i, column=1, padx=10, pady=5)\n",
    "    entries.append(entry)\n",
    "\n",
    "# Bouton pour prédire la classe de la tumeur\n",
    "predict_button = tk.Button(root, text='Predict', command=predict_tumor)\n",
    "predict_button.grid(row=len(labels)+1, column=0, columnspan=2, pady=10)\n",
    "\n",
    "# Exécuter la boucle principale Tkinter\n",
    "root.mainloop()"
   ]
  },
  {
   "cell_type": "code",
   "execution_count": null,
   "id": "de12e684-cff0-462d-8913-832eb1097dee",
   "metadata": {},
   "outputs": [],
   "source": [
    "    "
   ]
  }
 ],
 "metadata": {
  "kernelspec": {
   "display_name": "Python 3 (ipykernel)",
   "language": "python",
   "name": "python3"
  },
  "language_info": {
   "codemirror_mode": {
    "name": "ipython",
    "version": 3
   },
   "file_extension": ".py",
   "mimetype": "text/x-python",
   "name": "python",
   "nbconvert_exporter": "python",
   "pygments_lexer": "ipython3",
   "version": "3.11.7"
  }
 },
 "nbformat": 4,
 "nbformat_minor": 5
}
